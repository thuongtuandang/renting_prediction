{
 "cells": [
  {
   "cell_type": "markdown",
   "metadata": {},
   "source": [
    "Steps for processing input data (assume this is a csv file, or a path to a csv file)."
   ]
  },
  {
   "cell_type": "code",
   "execution_count": null,
   "metadata": {},
   "outputs": [],
   "source": [
    "# Drop records with NaN for totalRent\n",
    "df_val = df_val.dropna(subset=['totalRent'])"
   ]
  },
  {
   "cell_type": "code",
   "execution_count": null,
   "metadata": {},
   "outputs": [],
   "source": [
    "# Drop text features and target variable\n",
    "df_val_no_text = df_val.drop(columns=['description', 'facilities', 'totalRent'],axis=1)\n",
    "df_val_no_text= label_encoding(df_val_no_text, cat_features)"
   ]
  },
  {
   "cell_type": "code",
   "execution_count": 1,
   "metadata": {},
   "outputs": [],
   "source": [
    "# Drop columns\n",
    "\n",
    "columns_1_drop = ['telekomHybridUploadSpeed', 'noParkSpaces', 'petsAllowed', \n",
    "           'thermalChar', 'numberOfFloors', 'heatingCosts', 'energyEfficiencyClass',\n",
    "          'lastRefurbish', 'electricityBasePrice', 'electricityKwhPrice']\n",
    "\n",
    "columns_2_drop = ['street','streetPlain', 'geo_bln', 'scoutId', 'date', 'geo_krs', 'houseNumber',\n",
    "          'yearConstructedRange', 'baseRentRange', 'noRoomsRange', 'livingSpaceRange',\n",
    "          'telekomTvOffer', 'firingTypes']\n",
    "\n",
    "num_features = ['serviceCharge', 'picturecount', 'pricetrend', 'telekomUploadSpeed', \n",
    "                'totalRent', 'yearConstructed', 'baseRent', 'livingSpace', 'noRooms', \n",
    "                'floor']"
   ]
  },
  {
   "cell_type": "code",
   "execution_count": null,
   "metadata": {},
   "outputs": [],
   "source": [
    "# Drop baseRent"
   ]
  },
  {
   "cell_type": "code",
   "execution_count": 2,
   "metadata": {},
   "outputs": [
    {
     "data": {
      "text/plain": [
       "10"
      ]
     },
     "execution_count": 2,
     "metadata": {},
     "output_type": "execute_result"
    }
   ],
   "source": [
    "len(num_features)"
   ]
  },
  {
   "cell_type": "code",
   "execution_count": null,
   "metadata": {},
   "outputs": [],
   "source": [
    "num_missing_cols = ['serviceCharge', 'yearConstructed', 'pricetrend', 'telekomUploadSpeed', 'floor']\n",
    "\n",
    "# Fill by medians\n",
    "# Apply this to df_val\n",
    "for col in num_missing_cols:\n",
    "    # For each row in df_val, if the value in the target column is missing,\n",
    "    # fill it with the median from medians_by_regio2 where 'regio2' matches.\n",
    "    df_val[col] = df_val.apply(\n",
    "        lambda row: medians_by_regio2.loc[medians_by_regio2['regio2'] == row['regio2'], col].values[0]\n",
    "        if pd.isnull(row[col]) else row[col], axis=1)\n",
    "    \n",
    "# Apply this to df_test\n",
    "for col in num_missing_cols:\n",
    "    # For each row in df_test, if the value in the target column is missing,\n",
    "    # fill it with the median from medians_by_regio2 where 'regio2' matches.\n",
    "    df_test[col] = df_test.apply(\n",
    "        lambda row: medians_by_regio2.loc[medians_by_regio2['regio2'] == row['regio2'], col].values[0]\n",
    "        if pd.isnull(row[col]) else row[col], axis=1)"
   ]
  },
  {
   "cell_type": "markdown",
   "metadata": {},
   "source": [
    "# Filling missing text values with 'keine Beschreibung' for train set\n",
    "df_val['description'] = df_val['description'].fillna('keine Beschreibung')\n",
    "df_val['facilities'] = df_val['facilities'].fillna('keine Beschreibung')"
   ]
  },
  {
   "cell_type": "code",
   "execution_count": null,
   "metadata": {},
   "outputs": [],
   "source": [
    "# For no_text set\n",
    "df_train_no_text = df_train.drop(columns=['description', 'facilities', 'totalRent'],axis=1)\n",
    "df_train_no_text"
   ]
  },
  {
   "cell_type": "code",
   "execution_count": null,
   "metadata": {},
   "outputs": [],
   "source": [
    "# Fill with trained imputers\n",
    "def fill_with_trained_imputer(test_df, clf, column, missing_label):\n",
    "    # Prepare test data with missing values\n",
    "    X_missing_test = test_df[test_df[column] == missing_label].drop(column, axis=1)\n",
    "\n",
    "    # Predict and fill missing values in the test set using the trained classifier\n",
    "    if not X_missing_test.empty:\n",
    "        predicted_values_test = clf.predict(X_missing_test)\n",
    "        test_df.loc[test_df[column] == missing_label, column] = predicted_values_test\n",
    "\n",
    "    print(f\"Imputation completed for {column} in test set.\")"
   ]
  },
  {
   "cell_type": "code",
   "execution_count": null,
   "metadata": {},
   "outputs": [],
   "source": [
    "fill_with_trained_imputer(df_val_no_text, clf_heatingType, 'heatingType', -1)\n",
    "\n",
    "fill_with_trained_imputer(df_val_no_text, clf_condition, 'condition', -1)\n",
    "\n",
    "fill_with_trained_imputer(df_val_no_text, clf_typeOfFlat, 'typeOfFlat', -1)\n",
    "\n",
    "fill_with_trained_imputer(df_val_no_text, clf_interiorQual, 'interiorQual', -1)\n",
    "\n",
    "# Add the target variable to df_val_no_text\n",
    "df_val_no_text['totalRent'] = df_val['totalRent']\n",
    "# Modify num_features in df_val with standard scaler\n",
    "df_val[num_features] = df_val_no_text[num_features]\n",
    "# Fill missing values and label encoder in df_val\n",
    "df_val[cat_features] = df_val_no_text[cat_features]"
   ]
  },
  {
   "cell_type": "markdown",
   "metadata": {},
   "source": [
    "1%\n",
    "Top 10 important features:  ['livingSpace', 'pricetrend', 'serviceCharge', 'geo_plz', 'facilities_vec_1', 'description_vec_4', 'yearConstructed', 'regio3', 'picturecount', 'description_vec_6']\n",
    "\n",
    "2%\n",
    "Top 10 important features:  ['geo_plz', 'livingSpace', 'serviceCharge', 'regio2', 'pricetrend', 'yearConstructed', 'regio3', 'regio1', 'picturecount', 'condition']\n",
    "\n",
    "Top 10 important features:  ['livingSpace' (high), 'serviceCharge' (high), 'pricetrend' (high), 'geo_plz' (high), 'yearConstructed', 'regio2', 'regio3', 'description_vec_3', 'description_vec_6', 'description_vec_8']\n",
    "Mean valiation R2 score:  0.8244478048145927\n",
    "validation: RMSE loss:  197.72233966186332\n",
    "R2 score:  0.797261771694843\n",
    "\n",
    "test: RMSE loss:  224.6605712104951\n",
    "R2 score:  0.7935056412964735\n",
    "\n",
    " 79% (new features)\n",
    "\n",
    " 10%\n"
   ]
  },
  {
   "cell_type": "code",
   "execution_count": null,
   "metadata": {},
   "outputs": [],
   "source": []
  }
 ],
 "metadata": {
  "kernelspec": {
   "display_name": "Python 3",
   "language": "python",
   "name": "python3"
  },
  "language_info": {
   "codemirror_mode": {
    "name": "ipython",
    "version": 3
   },
   "file_extension": ".py",
   "mimetype": "text/x-python",
   "name": "python",
   "nbconvert_exporter": "python",
   "pygments_lexer": "ipython3",
   "version": "3.10.13"
  }
 },
 "nbformat": 4,
 "nbformat_minor": 2
}
